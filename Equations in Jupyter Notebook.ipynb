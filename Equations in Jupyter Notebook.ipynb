{
  "nbformat": 4,
  "nbformat_minor": 5,
  "metadata": {
    "kernelspec": {
      "display_name": "Python 3",
      "language": "python",
      "name": "python3"
    },
    "language_info": {
      "codemirror_mode": {
        "name": "ipython",
        "version": 3
      },
      "file_extension": ".py",
      "mimetype": "text/x-python",
      "name": "python",
      "nbconvert_exporter": "python",
      "pygments_lexer": "ipython3",
      "version": "3.7.1"
    },
    "colab": {
      "name": "Equations in Jupyter Notebook.ipynb",
      "provenance": []
    }
  },
  "cells": [
    {
      "cell_type": "markdown",
      "metadata": {
        "id": "de03f605"
      },
      "source": [
        "***\n",
        "$\\mathbf{\\text{Linear Model}}$<br>\n",
        "***\n",
        "\n",
        "$\\hat{Y}=\\hat{\\beta}_{0}+\\sum\\limits_{j=1}^{p}X_{j}\\hat{\\beta}_{j}$"
      ],
      "id": "de03f605"
    },
    {
      "cell_type": "markdown",
      "metadata": {
        "id": "92b50e57"
      },
      "source": [
        "A model is linear, if the relationship between dependent variable (Y) and independent variables (X) is linear in parameters (betas). The hat on betas just mean that they are values estimated from data (and we hope that they are close to true values)."
      ],
      "id": "92b50e57"
    },
    {
      "cell_type": "markdown",
      "metadata": {
        "id": "31b9bac8"
      },
      "source": [
        "Symbols we need to write:\n",
        "1. Hat: \\hat\n",
        "2. Subscript: _{}\n",
        "3. Sum: \\sum\n",
        "4. Limits of sum: \\limits _{} ^{}\n",
        "5. Beta: \\beta"
      ],
      "id": "31b9bac8"
    },
    {
      "cell_type": "code",
      "metadata": {
        "id": "637012d4"
      },
      "source": [
        "# $ : All the Math you want to write in the markdown should be inside opening and closing $ symbol in order to be processed as Math.\n",
        "# \\beta : Creates the symbol beta\n",
        "# \\hat{} : A hat is covered over anything inside the curly braces of \\hat{}. E.g. in \\hat{Y} hat is created over Y and in \\hat{\\beta}_{0},  hat is shown over beta\n",
        "# _{} : Creates as subscript, anything inside the curly braces after _. E.g. \\hat{\\beta}_{0} will create beta with a hat and give it a subscript of 0.\n",
        "# ^{} : (Similar to subscript) Creates as superscript, anything inside the curly braces after ^.\n",
        "# \\sum : Creates the summation symbol\n",
        "# \\limits _{} ^{} : Creates lower and upper limit for the \\sum using the subscript and superscript notation.\n",
        "    "
      ],
      "id": "637012d4",
      "execution_count": null,
      "outputs": []
    },
    {
      "cell_type": "code",
      "metadata": {
        "id": "d47b0238"
      },
      "source": [
        "# *** : Creates horizontal line\n",
        "# &emsp; : Creates space. (Ref: Space in ‘markdown’ cell of Jupyter Notebook)\n",
        "# \\gamma : Creates gamma symbol\n",
        "# \\displaystyle : Forces display mode (BONUS 3 above). (Ref: Display style in Math mode)\n",
        "# \\frac{}{} : Creates fraction with two curly braces from numerator and denominator.\n",
        "# <br> : Creates line breaks\n",
        "# \\Bigg : Helps create parenthesis of big sizes. (Ref: Brackets and Parentheses)\n",
        "# \\partial : Creates partial derivatives symbol\n",
        "# \\underset() : To write under a text. E.g. gamma under arg min, instead of a subscript. In the algorithm you’ll see both types.\n",
        "# \\in : Creates belongs to symbol which is heavily used in set theory."
      ],
      "id": "d47b0238",
      "execution_count": null,
      "outputs": []
    },
    {
      "cell_type": "markdown",
      "metadata": {
        "id": "db5c330f"
      },
      "source": [
        "***\n",
        "$\\mathbf{\\text{Gradient Tree Boosting Algorithm}}$<br>\n",
        "***\n",
        "1.&emsp;Initialize model with a constant value $$f_{0}(x) = \\textrm{arg min}_{\\gamma} \\sum \\limits _{i=1} ^{N} L(y_{i}, \\gamma)$$\n",
        "2.&emsp;For m = 1 to M:<br>\n",
        "&emsp;&emsp;(a)&emsp;For $i = 1,2,...,N$ compute<br>\n",
        "    $$r_{im} = - \\displaystyle \\Bigg[\\frac{\\partial L(y_{i}, f(x_{i}))}{\\partial f(x_{i})}\\Bigg]_{f=f_{m−1}}$$\n",
        "&emsp;&emsp;(b)&emsp;Fit a regression tree to the targets $r_{im}$ giving terminal regions<br>\n",
        "&emsp;&emsp;&emsp;&emsp;$R_{jm}, j = 1, 2, . . . , J_{m}.$<br><br>\n",
        "&emsp;&emsp;(c)&emsp;For $j = 1, 2, . . . , J_{m}$ compute<br>\n",
        "$$\\gamma_{jm} = \\underset{\\gamma}{\\textrm{arg min}} \\sum \\limits _{x_{i} \\in R_{jm}} L(y_{i}, f_{m−1}(x_{i}) + \\gamma)$$\n",
        "<br>\n",
        "&emsp;&emsp;(d)&emsp;Update $f_{m}(x) = f_{m−1}(x) + \\sum _{j=1} ^{J_{m}} \\gamma_{jm} I(x \\in R_{jm})$<br><br>\n",
        "3. Output $\\hat{f}(x) = f_{M}(x)$\n",
        "***"
      ],
      "id": "db5c330f"
    },
    {
      "cell_type": "markdown",
      "metadata": {
        "id": "9529aa3f"
      },
      "source": [
        "Gradient Tree Boosting Algorithm combines Decision Trees in an additive and sequential manner to incrementally make better predictions on training data.\n",
        "It starts with an initial constant value of prediction for all data points (which is mean value in case of regression).\n",
        "In every subsequent iteration, it fits a tree to negative of gradient of loss with respect to predictions of model learned so far (which in regression case turns out to be error i.e. actual-predicted value).\n",
        "This new tree is then combined with the previous trees to get updated predictions for each data point.\n",
        "You stop the algorithm at a preset number of iterations."
      ],
      "id": "9529aa3f"
    },
    {
      "cell_type": "markdown",
      "metadata": {
        "id": "ebdfe9c4"
      },
      "source": [
        "***\n",
        "$\\mathbf{\\text{References & Resources}}$<br>\n",
        "***"
      ],
      "id": "ebdfe9c4"
    },
    {
      "cell_type": "markdown",
      "metadata": {
        "id": "4ae17204"
      },
      "source": [
        "[Using Markdown in Jupyter Notebook](https://gtribello.github.io/mathNET/assets/notebook-writing.html)"
      ],
      "id": "4ae17204"
    },
    {
      "cell_type": "markdown",
      "metadata": {
        "id": "ce2a2a11"
      },
      "source": [
        "[LaTeX Symbols](https://artofproblemsolving.com/wiki/index.php/LaTeX:Symbols)"
      ],
      "id": "ce2a2a11"
    },
    {
      "cell_type": "markdown",
      "metadata": {
        "id": "0a6a9f15"
      },
      "source": [
        "[Overleaf: Integrals, Sums and Limits](https://www.overleaf.com/learn/latex/Integrals%2C_sums_and_limits)"
      ],
      "id": "0a6a9f15"
    },
    {
      "cell_type": "markdown",
      "metadata": {
        "id": "55871acf"
      },
      "source": [
        "[Overleaf: Line Breaks and Blank Spaces](https://www.overleaf.com/learn/latex/Line_breaks_and_blank_spaces)"
      ],
      "id": "55871acf"
    },
    {
      "cell_type": "markdown",
      "metadata": {
        "id": "99825ec5"
      },
      "source": [
        "[Overleaf: Brackets and Parentheses](https://www.overleaf.com/learn/latex/Brackets_and_Parentheses)"
      ],
      "id": "99825ec5"
    },
    {
      "cell_type": "markdown",
      "metadata": {
        "id": "dbdd1925"
      },
      "source": [
        "[List of Mathematical Symbols by Subject](https://en.wikipedia.org/wiki/List_of_mathematical_symbols_by_subject)"
      ],
      "id": "dbdd1925"
    },
    {
      "cell_type": "code",
      "metadata": {
        "id": "a8ba3de4"
      },
      "source": [
        ""
      ],
      "id": "a8ba3de4",
      "execution_count": null,
      "outputs": []
    }
  ]
}